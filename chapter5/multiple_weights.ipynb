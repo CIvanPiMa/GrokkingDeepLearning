{
 "cells": [
  {
   "cell_type": "markdown",
   "id": "dbf08d3e",
   "metadata": {},
   "source": [
    "# Gradient descent with multiple inputs and a single output"
   ]
  },
  {
   "cell_type": "code",
   "execution_count": 1,
   "id": "6c727232",
   "metadata": {},
   "outputs": [],
   "source": [
    "def neural_network(input, weights):\n",
    "    out = 0\n",
    "    for i in range(len(input)):\n",
    "        out += (input[i] * weights[i])\n",
    "    return out"
   ]
  },
  {
   "cell_type": "code",
   "execution_count": 2,
   "id": "41da2cab",
   "metadata": {},
   "outputs": [],
   "source": [
    "def ele_mul(scalar, vector):\n",
    "    out = [0,0,0]\n",
    "    for i in range(len(out)):\n",
    "        out[i] = vector[i] * scalar\n",
    "    return out"
   ]
  },
  {
   "cell_type": "code",
   "execution_count": 3,
   "id": "5e9aeae4",
   "metadata": {},
   "outputs": [],
   "source": [
    "# Data\n",
    "\n",
    "toes = [8.5, 9.5, 9.9, 9.0]\n",
    "wlrec = [0.65, 0.8, 0.8, 0.9]\n",
    "nfans = [1.2, 1.3, 0.5, 1.0]\n",
    "\n",
    "win_or_lose_binary = [1, 1, 0, 1]\n",
    "true = win_or_lose_binary[0]\n",
    "input = [toes[0],wlrec[0],nfans[0]]"
   ]
  },
  {
   "cell_type": "markdown",
   "id": "cbf858a3",
   "metadata": {},
   "source": [
    "# How do you turn a single delta (on the node) into three weight_delta values?\n",
    "\n",
    "Once you have the `weight_delta` values, you multiply them by `alpha` and subtract them from the `weights`. It’s literally the same process as before, repeated across multiple `weights` instead of a single one.\n",
    "\n"
   ]
  },
  {
   "cell_type": "code",
   "execution_count": 4,
   "id": "21733b19",
   "metadata": {},
   "outputs": [
    {
     "name": "stdout",
     "output_type": "stream",
     "text": [
      "Current alpha: 0.1\n",
      "\tIteration:1\n",
      "\t\tPred:0.8600000000000001\n",
      "\t\tError:0.01959999999999997\n",
      "\t\tDelta:-0.1399999999999999\n",
      "\t\tWeights:[0.1, 0.2, -0.1]\n",
      "\t\tWeight_Deltas:[-1.189999999999999, -0.09099999999999994, -0.16799999999999987]\n",
      "\t\t\n",
      "\tIteration:2\n",
      "\t\tPred:1.8975749999999993\n",
      "\t\tError:0.8056408806249988\n",
      "\t\tDelta:0.8975749999999993\n",
      "\t\tWeights:[0.21899999999999992, 0.2091, -0.08320000000000002]\n",
      "\t\tWeight_Deltas:[7.629387499999995, 0.5834237499999996, 1.0770899999999992]\n",
      "\t\t\n",
      "\tIteration:3\n",
      "\t\tPred:-4.754577718749997\n",
      "\t\tError:33.115164721133915\n",
      "\t\tDelta:-5.754577718749997\n",
      "\t\tWeights:[-0.5439387499999997, 0.15075762500000006, -0.19090899999999994]\n",
      "\t\tWeight_Deltas:[-48.91391060937497, -3.740475517187498, -6.905493262499996]\n",
      "\t\t\n",
      "Current alpha: 0.01\n",
      "\tIteration:1\n",
      "\t\tPred:0.8600000000000001\n",
      "\t\tError:0.01959999999999997\n",
      "\t\tDelta:-0.1399999999999999\n",
      "\t\tWeights:[0.1, 0.2, -0.1]\n",
      "\t\tWeight_Deltas:[-1.189999999999999, -0.09099999999999994, -0.16799999999999987]\n",
      "\t\t\n",
      "\tIteration:2\n",
      "\t\tPred:0.9637574999999999\n",
      "\t\tError:0.0013135188062500048\n",
      "\t\tDelta:-0.036242500000000066\n",
      "\t\tWeights:[0.1119, 0.20091, -0.09832]\n",
      "\t\tWeight_Deltas:[-0.30806125000000056, -0.023557625000000044, -0.04349100000000008]\n",
      "\t\t\n",
      "\tIteration:3\n",
      "\t\tPred:0.9906177228125002\n",
      "\t\tError:8.802712522307997e-05\n",
      "\t\tDelta:-0.009382277187499843\n",
      "\t\tWeights:[0.11498061250000001, 0.20114557625, -0.09788509000000001]\n",
      "\t\tWeight_Deltas:[-0.07974935609374867, -0.006098480171874899, -0.011258732624999811]\n",
      "\t\t\n"
     ]
    }
   ],
   "source": [
    "for alpha in [0.1, 0.01]:\n",
    "    weights = [0.1, 0.2, -.1]\n",
    "    print(f\"Current alpha: {alpha}\")\n",
    "    for iter in range(3):\n",
    "        pred = neural_network(input,weights)\n",
    "        error = (pred - true) ** 2\n",
    "        delta = pred - true\n",
    "        weight_deltas=ele_mul(delta,input)\n",
    "        print(\n",
    "            \"\\tIteration:\" + str(iter+1),\n",
    "            \"Pred:\" + str(pred),\n",
    "            \"Error:\" + str(error),\n",
    "            \"Delta:\" + str(delta),\n",
    "            \"Weights:\" + str(weights),\n",
    "            \"Weight_Deltas:\" + str(weight_deltas),\n",
    "            \"\",\n",
    "            sep='\\n\\t\\t'\n",
    "        )\n",
    "        for i in range(len(weights)):\n",
    "            weights[i]-=alpha*weight_deltas[i]\n"
   ]
  },
  {
   "cell_type": "markdown",
   "id": "0b83f63a",
   "metadata": {},
   "source": [
    "- Cuando `alpha = 0.1` podemos ver como las predicciones divergen! y\n",
    "- Cuando `alpha = 0.01` las predicciones se acercan cada ves mas a 1\n"
   ]
  },
  {
   "cell_type": "markdown",
   "id": "f5b9e6f8",
   "metadata": {},
   "source": [
    "# Freezing one weight: What does it do?"
   ]
  },
  {
   "cell_type": "code",
   "execution_count": 5,
   "id": "006c275a",
   "metadata": {},
   "outputs": [
    {
     "name": "stdout",
     "output_type": "stream",
     "text": [
      "Current alpha: 0.3\n",
      "\tIteration:1\n",
      "\t\tPred:0.8600000000000001\n",
      "\t\tError:0.01959999999999997\n",
      "\t\tDelta:-0.1399999999999999\n",
      "\t\tWeights:[0.1, 0.2, -0.1]\n",
      "\t\tWeight_Deltas:[0, -0.09099999999999994, -0.16799999999999987]\n",
      "\t\t\n",
      "\tIteration:2\n",
      "\t\tPred:0.9382250000000001\n",
      "\t\tError:0.003816150624999989\n",
      "\t\tDelta:-0.06177499999999991\n",
      "\t\tWeights:[0.1, 0.2273, -0.04960000000000005]\n",
      "\t\tWeight_Deltas:[0, -0.040153749999999946, -0.07412999999999989]\n",
      "\t\t\n",
      "\tIteration:3\n",
      "\t\tPred:0.97274178125\n",
      "\t\tError:0.000743010489422852\n",
      "\t\tDelta:-0.027258218750000007\n",
      "\t\tWeights:[0.1, 0.239346125, -0.02736100000000008]\n",
      "\t\tWeight_Deltas:[0, -0.017717842187500006, -0.032709862500000006]\n",
      "\t\t\n"
     ]
    }
   ],
   "source": [
    "for alpha in [0.3]:\n",
    "    weights = [0.1, 0.2, -.1]\n",
    "    print(f\"Current alpha: {alpha}\")\n",
    "    for iter in range(3):\n",
    "        pred = neural_network(input,weights)\n",
    "        error = (pred - true) ** 2\n",
    "        delta = pred - true\n",
    "        weight_deltas=ele_mul(delta,input)\n",
    "        weight_deltas[0] = 0\n",
    "        print(\n",
    "            \"\\tIteration:\" + str(iter+1),\n",
    "            \"Pred:\" + str(pred),\n",
    "            \"Error:\" + str(error),\n",
    "            \"Delta:\" + str(delta),\n",
    "            \"Weights:\" + str(weights),\n",
    "            \"Weight_Deltas:\" + str(weight_deltas),\n",
    "            \"\",\n",
    "            sep='\\n\\t\\t'\n",
    "        )\n",
    "        for i in range(len(weights)):\n",
    "            weights[i]-=alpha*weight_deltas[i]\n"
   ]
  },
  {
   "cell_type": "markdown",
   "id": "d58f4c5e",
   "metadata": {},
   "source": [
    "Como podemos ver, a pesar de que FIJAMOS el peso del primer input en `0.1` AUN ASI la prediccion llego a al lugar correcto!!!\n",
    "\n",
    "This tells you what the graphs really are. In truth, these are 2D slices of a four-dimensional shape. Three of the dimensions are the weight values, and the fourth dimension is the error. \n",
    "\n",
    "This shape is called the **error plane**, and, believe it or not, its curvature is determined by the training data.\n",
    "\n",
    "What you’re really trying to do with the neural network is **find the lowest point on this big error plane**, where the lowest point refers to the lowest error."
   ]
  },
  {
   "cell_type": "markdown",
   "id": "b3547ead",
   "metadata": {},
   "source": [
    "# Gradient descent with a single input and multiple outputs\n",
    "\n",
    "You calculate each `delta` the same way and then multiply them all by the same, single `input`. This becomes each weight’s `weight_delta`."
   ]
  },
  {
   "cell_type": "code",
   "execution_count": 6,
   "id": "e020f563",
   "metadata": {},
   "outputs": [],
   "source": [
    "def ele_mul(scalar, vector):\n",
    "    out = [0,0,0]\n",
    "    for i in range(len(out)):\n",
    "        out[i] = vector[i] * scalar\n",
    "    return out"
   ]
  },
  {
   "cell_type": "code",
   "execution_count": 7,
   "id": "1e37dd54",
   "metadata": {},
   "outputs": [],
   "source": [
    "def neural_network(input, weights):\n",
    "    pred = ele_mul(input,weights)\n",
    "    return pred"
   ]
  },
  {
   "cell_type": "code",
   "execution_count": 8,
   "id": "3a487e17",
   "metadata": {},
   "outputs": [
    {
     "name": "stdout",
     "output_type": "stream",
     "text": [
      "weights: [0.28049999999999997, 0.187, 0.8415]\n",
      "weight_deltas: [0.195, 0.13, 0.5850000000000001]\n"
     ]
    }
   ],
   "source": [
    "weights = [0.3, 0.2, 0.9]\n",
    "\n",
    "# inputs\n",
    "wlrec = [0.65, 1.0, 1.0, 0.9]\n",
    "\n",
    "# outputs\n",
    "hurt = [0.1, 0.0, 0.0, 0.1]\n",
    "win = [ 1,1,0,1]\n",
    "sad = [0.1, 0.0, 0.1, 0.2]\n",
    "\n",
    "input = wlrec[0]\n",
    "true = [hurt[0], win[0], sad[0]]\n",
    "\n",
    "pred = neural_network(input,weights)\n",
    "\n",
    "error = [0, 0, 0]\n",
    "delta = [0, 0, 0]\n",
    "\n",
    "for i in range(len(true)):\n",
    "    error[i] = (pred[i] - true[i]) ** 2\n",
    "    delta[i] = pred[i] - true[i]\n",
    "\n",
    "weight_deltas = ele_mul(input, weights)\n",
    "alpha = 0.1\n",
    "\n",
    "for i in range(len(weights)):\n",
    "    weights[i] -= weight_deltas[i]*alpha\n",
    "    \n",
    "print(\n",
    "    f\"weights: {weights}\",\n",
    "    f\"weight_deltas: {weight_deltas}\",\n",
    "    sep=\"\\n\"\n",
    ")"
   ]
  },
  {
   "cell_type": "markdown",
   "id": "a3a76a82",
   "metadata": {},
   "source": [
    "# Gradient descent with multiple inputs and outputs"
   ]
  },
  {
   "cell_type": "code",
   "execution_count": 9,
   "id": "d7fe5bf0",
   "metadata": {},
   "outputs": [],
   "source": [
    "import numpy as np\n",
    "def w_sum(a,b):\n",
    "    return np.array(a).dot(np.array(b))"
   ]
  },
  {
   "cell_type": "code",
   "execution_count": 10,
   "id": "5525533a",
   "metadata": {},
   "outputs": [],
   "source": [
    "def vect_mat_mul(vect,matrix):\n",
    "    assert(len(vect) == len(matrix))\n",
    "    output = [0,0,0]\n",
    "    for i in range(len(vect)):\n",
    "        output[i] = w_sum(vect,matrix[i])\n",
    "    return output"
   ]
  },
  {
   "cell_type": "code",
   "execution_count": 11,
   "id": "40e9b44b",
   "metadata": {},
   "outputs": [],
   "source": [
    "def neural_network(input, weights):\n",
    "    pred = vect_mat_mul(input,weights)\n",
    "    return pred"
   ]
  },
  {
   "cell_type": "code",
   "execution_count": 12,
   "id": "b2242f9c",
   "metadata": {},
   "outputs": [],
   "source": [
    "           # toes %win # fans\n",
    "weights = [[0.1, 0.1, -0.3],# hurt?\n",
    "           [0.1, 0.2, 0.0], # win?\n",
    "           [0.0, 1.3, 0.1]]# sad?"
   ]
  },
  {
   "cell_type": "code",
   "execution_count": 13,
   "id": "c844c90a",
   "metadata": {},
   "outputs": [],
   "source": [
    "# inputs\n",
    "toes = [8.5, 9.5, 9.9, 9.0]\n",
    "wlrec = [0.65,0.8, 0.8, 0.9]\n",
    "nfans = [1.2, 1.3, 0.5, 1.0]\n",
    "\n",
    "# outputs\n",
    "hurt = [0.1, 0.0, 0.0, 0.1]\n",
    "win = [ 1, 1, 0, 1]\n",
    "sad = [0.1, 0.0, 0.1, 0.2]\n",
    "\n",
    "alpha = 0.01"
   ]
  },
  {
   "cell_type": "code",
   "execution_count": 14,
   "id": "78de55b2",
   "metadata": {},
   "outputs": [],
   "source": [
    "input = [toes[0],wlrec[0],nfans[0]]\n",
    "true = [hurt[0], win[0], sad[0]]\n",
    "\n",
    "pred = neural_network(input,weights)\n",
    "error = [0, 0, 0]\n",
    "delta = [0, 0, 0]\n",
    "\n",
    "for i in range(len(true)):\n",
    "    error[i] = (pred[i] - true[i]) ** 2\n",
    "    delta = pred[i] - true[i]"
   ]
  },
  {
   "cell_type": "code",
   "execution_count": null,
   "id": "80875ace",
   "metadata": {},
   "outputs": [],
   "source": []
  }
 ],
 "metadata": {
  "kernelspec": {
   "display_name": "Python 3 (ipykernel)",
   "language": "python",
   "name": "python3"
  },
  "language_info": {
   "codemirror_mode": {
    "name": "ipython",
    "version": 3
   },
   "file_extension": ".py",
   "mimetype": "text/x-python",
   "name": "python",
   "nbconvert_exporter": "python",
   "pygments_lexer": "ipython3",
   "version": "3.10.1"
  }
 },
 "nbformat": 4,
 "nbformat_minor": 5
}
