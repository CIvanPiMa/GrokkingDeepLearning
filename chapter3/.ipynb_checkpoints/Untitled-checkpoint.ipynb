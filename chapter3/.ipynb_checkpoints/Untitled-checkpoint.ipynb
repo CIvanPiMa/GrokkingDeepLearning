{
 "cells": [
  {
   "cell_type": "markdown",
   "id": "0867e98c",
   "metadata": {},
   "source": [
    "# Data"
   ]
  },
  {
   "cell_type": "code",
   "execution_count": 11,
   "id": "d9a61e63",
   "metadata": {},
   "outputs": [],
   "source": [
    "toes = [8.5, 9.5, 9.9, 9.0]\n",
    "wlrec = [0.65, 0.8, 0.8, 0.9]\n",
    "nfans = [1.2, 1.3, 0.5, 1.0]"
   ]
  },
  {
   "cell_type": "markdown",
   "id": "a6d816b2",
   "metadata": {},
   "source": [
    "# A simple neural network (NN|nn) making a prediction\n"
   ]
  },
  {
   "cell_type": "markdown",
   "id": "e933d1bc",
   "metadata": {},
   "source": [
    "The interface for a neural network is simple.\n",
    "\n",
    "It accepts an `input` variable as *information* and a `weight` variable as *knowledge* and outputs a `prediction`."
   ]
  },
  {
   "cell_type": "markdown",
   "id": "94986373",
   "metadata": {},
   "source": [
    "A `weight` value is as a measure of **sensitivity** between the `input` of the network and its `prediction`."
   ]
  },
  {
   "cell_type": "code",
   "execution_count": 1,
   "id": "9e52738b",
   "metadata": {},
   "outputs": [],
   "source": [
    "def my_nn(my_input, weight):\n",
    "    return my_input * weight"
   ]
  },
  {
   "cell_type": "code",
   "execution_count": 12,
   "id": "22dda82b",
   "metadata": {},
   "outputs": [
    {
     "name": "stdout",
     "output_type": "stream",
     "text": [
      "0.8500000000000001\n"
     ]
    }
   ],
   "source": [
    "weight = 0.1\n",
    "my_input = toes[0]\n",
    "pred = my_nn(my_input, weight)\n",
    "\n",
    "print(pred)"
   ]
  },
  {
   "cell_type": "markdown",
   "id": "29e4e2de",
   "metadata": {},
   "source": [
    "# Making a prediction with multiple inputs"
   ]
  },
  {
   "cell_type": "markdown",
   "id": "5e83b2e3",
   "metadata": {},
   "source": [
    "Now you multiply each `input` by its respective `weight` and then sum all the local `predictions` together. \n",
    "\n",
    "This is called a **weighted sum of the input**, or a **weighted sum** for short. \n",
    "Some also refer to the weighted sum as a **dot product**."
   ]
  },
  {
   "cell_type": "code",
   "execution_count": 4,
   "id": "b45b6564",
   "metadata": {},
   "outputs": [],
   "source": [
    "def weighted_sum(vec_1, vec_2):\n",
    "    return sum([comp_1 * comp_2 for comp_1, comp_2 in zip(vec_1, vec_2)])"
   ]
  },
  {
   "cell_type": "code",
   "execution_count": 5,
   "id": "8d57ff75",
   "metadata": {},
   "outputs": [],
   "source": [
    "def my_nn_2(my_input, weights):\n",
    "    return weighted_sum(my_input, weights)    "
   ]
  },
  {
   "cell_type": "code",
   "execution_count": 6,
   "id": "4254afe5",
   "metadata": {},
   "outputs": [
    {
     "name": "stdout",
     "output_type": "stream",
     "text": [
      "0.9800000000000001\n"
     ]
    }
   ],
   "source": [
    "weights = [0.1, 0.2, 0]\n",
    "my_input = [toes[0],wlrec[0],nfans[0]]\n",
    "pred = my_nn_2(my_input, weights)\n",
    "\n",
    "print(pred)"
   ]
  },
  {
   "cell_type": "markdown",
   "id": "a9f501af",
   "metadata": {},
   "source": [
    "# Making a prediction with multiple outputs"
   ]
  },
  {
   "cell_type": "markdown",
   "id": "d50e3ff3",
   "metadata": {},
   "source": [
    "This kind of network truly behaves as three independent components, each receiving the same input data."
   ]
  },
  {
   "cell_type": "code",
   "execution_count": 7,
   "id": "599ca962",
   "metadata": {},
   "outputs": [],
   "source": [
    "def multiply_element(value, vector):\n",
    "    return [value * component for component in vector]"
   ]
  },
  {
   "cell_type": "code",
   "execution_count": 8,
   "id": "3b88dfe5",
   "metadata": {},
   "outputs": [],
   "source": [
    "def my_nn_3(my_input, weights):\n",
    "    return multiply_element(my_input, weights)    "
   ]
  },
  {
   "cell_type": "code",
   "execution_count": 9,
   "id": "7a5ea8cb",
   "metadata": {},
   "outputs": [
    {
     "name": "stdout",
     "output_type": "stream",
     "text": [
      "[0.195, 0.13, 0.5850000000000001]\n"
     ]
    }
   ],
   "source": [
    "weights = [0.3, 0.2, 0.9]\n",
    "my_input = wlrec[0]\n",
    "pred = my_nn_3(my_input, weights)\n",
    "\n",
    "print(pred)"
   ]
  },
  {
   "cell_type": "markdown",
   "id": "d6019fbd",
   "metadata": {},
   "source": [
    "# Predicting with multiple inputs and outputs"
   ]
  },
  {
   "cell_type": "code",
   "execution_count": 13,
   "id": "560861c8",
   "metadata": {},
   "outputs": [],
   "source": [
    "def vec_mult_mat(vector, matrix):\n",
    "    return [weighted_sum(vector, vec) for vec in matrix]"
   ]
  },
  {
   "cell_type": "code",
   "execution_count": 14,
   "id": "ee3fbe47",
   "metadata": {},
   "outputs": [],
   "source": [
    "def my_nn_4(my_input, weights):\n",
    "    return vec_mult_mat(my_input, weights)"
   ]
  },
  {
   "cell_type": "code",
   "execution_count": 15,
   "id": "558551b2",
   "metadata": {},
   "outputs": [
    {
     "name": "stdout",
     "output_type": "stream",
     "text": [
      "[0.555, 0.9800000000000001, 0.9650000000000001]\n"
     ]
    }
   ],
   "source": [
    "           #-toes %-win #-fans\n",
    "weights = [[0.1,  0.1,  -0.3], # hurt?\n",
    "           [0.1,  0.2,   0.0], # win?\n",
    "           [0.0,  1.3,   0.1]] # sad?\n",
    "my_input = [toes[0],wlrec[0],nfans[0]]\n",
    "pred = my_nn_4(my_input, weights)\n",
    "\n",
    "print(pred)"
   ]
  },
  {
   "cell_type": "markdown",
   "id": "67d43b84",
   "metadata": {},
   "source": [
    "# Numpy"
   ]
  },
  {
   "cell_type": "code",
   "execution_count": 19,
   "id": "b4088c13",
   "metadata": {},
   "outputs": [],
   "source": [
    "import numpy as np"
   ]
  },
  {
   "cell_type": "code",
   "execution_count": 31,
   "id": "233d9609",
   "metadata": {},
   "outputs": [
    {
     "name": "stdout",
     "output_type": "stream",
     "text": [
      "[[0. 0. 0. 0.]]\n",
      "-----\n",
      "[[0. 0. 0.]\n",
      " [0. 0. 0.]\n",
      " [0. 0. 0.]\n",
      " [0. 0. 0.]]\n",
      "-----\n",
      "[[0. 0. 0.]]\n",
      "-----\n",
      "(1, 3)\n"
     ]
    }
   ],
   "source": [
    "a = np.zeros((1,4))\n",
    "b = np.zeros((4,3))\n",
    "c = a.dot(b)\n",
    "# d = a*b\n",
    "\n",
    "print(\n",
    "    a,\n",
    "    b,\n",
    "    c,\n",
    "#     d,\n",
    "    c.shape,\n",
    "    sep=\"\\n-----\\n\"\n",
    ")"
   ]
  },
  {
   "cell_type": "code",
   "execution_count": 36,
   "id": "548c155e",
   "metadata": {},
   "outputs": [
    {
     "name": "stdout",
     "output_type": "stream",
     "text": [
      "[[1 2 3 4]]\n",
      "-----\n",
      "[[ 1  2  3]\n",
      " [ 4  5  6]\n",
      " [ 7  8  9]\n",
      " [10 11 12]]\n",
      "-----\n",
      "[[70 80 90]]\n",
      "-----\n",
      "(1, 3)\n"
     ]
    }
   ],
   "source": [
    "a = np.array([[1,2,3,4]])\n",
    "b = np.array([[1, 2, 3],\n",
    "              [4, 5, 6],\n",
    "              [7, 8, 9],\n",
    "              [10, 11, 12]])\n",
    "c = a.dot(b)\n",
    "# d = a*b\n",
    "\n",
    "print(\n",
    "    a,\n",
    "    b,\n",
    "    c,\n",
    "#     d,\n",
    "    c.shape,\n",
    "    sep=\"\\n-----\\n\"\n",
    ")"
   ]
  },
  {
   "cell_type": "code",
   "execution_count": null,
   "id": "81116a42",
   "metadata": {},
   "outputs": [],
   "source": []
  }
 ],
 "metadata": {
  "kernelspec": {
   "display_name": "Python 3 (ipykernel)",
   "language": "python",
   "name": "python3"
  },
  "language_info": {
   "codemirror_mode": {
    "name": "ipython",
    "version": 3
   },
   "file_extension": ".py",
   "mimetype": "text/x-python",
   "name": "python",
   "nbconvert_exporter": "python",
   "pygments_lexer": "ipython3",
   "version": "3.10.1"
  }
 },
 "nbformat": 4,
 "nbformat_minor": 5
}
