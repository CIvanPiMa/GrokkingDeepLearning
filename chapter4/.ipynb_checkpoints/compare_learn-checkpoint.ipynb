{
 "cells": [
  {
   "cell_type": "markdown",
   "id": "4b91f1fc",
   "metadata": {},
   "source": [
    "# Compare\n",
    "\n",
    "Comparing gives a measurement of how much a prediction “missed” by"
   ]
  },
  {
   "cell_type": "code",
   "execution_count": 1,
   "id": "302cde59",
   "metadata": {},
   "outputs": [
    {
     "name": "stdout",
     "output_type": "stream",
     "text": [
      "0.30250000000000005\n"
     ]
    }
   ],
   "source": [
    "knob_weight = 0.5\n",
    "input = 0.5\n",
    "goal_pred = 0.8\n",
    "\n",
    "pred = input * knob_weight\n",
    "error = (pred - goal_pred) ** 2  # Forces the raw error to be positive\n",
    "\n",
    "print(error)"
   ]
  },
  {
   "cell_type": "markdown",
   "id": "c74d4835",
   "metadata": {},
   "source": [
    "# Learn\n",
    "\n",
    "Learning tells each weight how it can change to reduce the error."
   ]
  },
  {
   "cell_type": "code",
   "execution_count": 2,
   "id": "d327e181",
   "metadata": {},
   "outputs": [],
   "source": [
    "weight = 0.1\n",
    "lr = 0.01 # Define the left-right adjustment for the weight\n",
    "\n",
    "\n",
    "def neural_network(input, weight):\n",
    "    prediction = input * weight\n",
    "    return prediction"
   ]
  },
  {
   "cell_type": "code",
   "execution_count": 3,
   "id": "84e71da7",
   "metadata": {},
   "outputs": [
    {
     "name": "stdout",
     "output_type": "stream",
     "text": [
      "error: 0.022499999999999975\n"
     ]
    }
   ],
   "source": [
    "# Data\n",
    "number_of_toes = [8.5]\n",
    "win_or_lose_binary = [1] # (won!!!)\n",
    "\n",
    "# Predict and calculate the error\n",
    "input = number_of_toes[0]\n",
    "true = win_or_lose_binary[0]\n",
    "\n",
    "pred = neural_network(input,weight)\n",
    "error = (pred - true) ** 2\n",
    "\n",
    "print(\"error:\", error)"
   ]
  },
  {
   "cell_type": "code",
   "execution_count": 4,
   "id": "61e5c796",
   "metadata": {},
   "outputs": [
    {
     "name": "stdout",
     "output_type": "stream",
     "text": [
      "e_up: 0.004224999999999993\n",
      "e_down: 0.05522499999999994\n"
     ]
    }
   ],
   "source": [
    "# \"turn the dial\" up and down to found a smaller error\n",
    "\n",
    "p_up = neural_network(input,weight+lr)\n",
    "e_up = (p_up - true) ** 2\n",
    "print(\"e_up:\", e_up)\n",
    "\n",
    "p_dn = neural_network(input,weight-lr)\n",
    "e_dn = (p_dn - true) ** 2\n",
    "print(\"e_down:\", e_dn)"
   ]
  },
  {
   "cell_type": "markdown",
   "id": "3864220e",
   "metadata": {},
   "source": [
    "Results from 1 iteration:\n",
    "\n",
    "- Original error: `0.022499999999999975`\n",
    "- Dial up: `0.004224999999999993`\n",
    "- Dial down: `0.05522499999999994`\n",
    "\n",
    "the `Dial up` reduced the error so `weight+lr` will be the next weight!"
   ]
  },
  {
   "cell_type": "markdown",
   "id": "eb563fc0",
   "metadata": {},
   "source": [
    "# Hot and cold learning\n",
    "\n",
    "Easy to understand but...\n",
    "\n",
    "- It's inefficient and \n",
    "- Sometimes it’s impossible to predict the exact goal prediction\n",
    "\n",
    "Next example itearates the \"dial\" up and down (by `step_amount = 0.001`) 1101 times. \n",
    "\n",
    "(We end up with `Error:1.0799505792475652e-27` and `Prediction:0.7999999999999672`)"
   ]
  },
  {
   "cell_type": "code",
   "execution_count": 5,
   "id": "648a3216",
   "metadata": {},
   "outputs": [
    {
     "name": "stdout",
     "output_type": "stream",
     "text": [
      "Iteration:0\n",
      "\tError:0.30250000000000005 \tPrediction:0.25\n",
      "Iteration:100\n",
      "\tError:0.25 \tPrediction:0.30000000000000004\n",
      "Iteration:200\n",
      "\tError:0.20249999999999996 \tPrediction:0.3500000000000001\n",
      "Iteration:300\n",
      "\tError:0.15999999999999992 \tPrediction:0.40000000000000013\n",
      "Iteration:400\n",
      "\tError:0.1224999999999999 \tPrediction:0.4500000000000002\n",
      "Iteration:500\n",
      "\tError:0.0899999999999999 \tPrediction:0.5000000000000002\n",
      "Iteration:600\n",
      "\tError:0.06250000000000266 \tPrediction:0.5499999999999947\n",
      "Iteration:700\n",
      "\tError:0.04000000000000434 \tPrediction:0.5999999999999892\n",
      "Iteration:800\n",
      "\tError:0.0225000000000049 \tPrediction:0.6499999999999837\n",
      "Iteration:900\n",
      "\tError:0.01000000000000437 \tPrediction:0.6999999999999782\n",
      "Iteration:1000\n",
      "\tError:0.0025000000000027357 \tPrediction:0.7499999999999727\n",
      "Iteration:1100\n",
      "\tError:1.0799505792475652e-27 \tPrediction:0.7999999999999672\n",
      "Error:1.0799505792475652e-27 Prediction:0.7999999999999672\n"
     ]
    }
   ],
   "source": [
    "weight = 0.5\n",
    "input = 0.5\n",
    "goal_prediction = 0.8\n",
    "step_amount = 0.001  # How much to move the weights each iteration\n",
    "\n",
    "for iteration in range(1101):  # Repeat learning many times so the error can keep getting smaller.\n",
    "    \n",
    "    prediction = input * weight\n",
    "    error = (prediction - goal_prediction) ** 2\n",
    "\n",
    "    if iteration%100 == 0:\n",
    "        print(\"Iteration:\" + str(iteration))\n",
    "        print(\"\\tError:\" + str(error), \"\\tPrediction:\" + str(prediction))\n",
    "\n",
    "    up_prediction = input * (weight + step_amount)\n",
    "    up_error = (goal_prediction - up_prediction) ** 2\n",
    "    down_prediction = input * (weight - step_amount)\n",
    "    down_error = (goal_prediction - down_prediction) ** 2\n",
    "    \n",
    "    if(down_error < up_error):\n",
    "        weight = weight - step_amount\n",
    "    if(down_error > up_error):\n",
    "        weight = weight + step_amount\n",
    "\n",
    "print(\"Error:\" + str(error) + \" Prediction:\" + str(prediction))\n"
   ]
  },
  {
   "cell_type": "markdown",
   "id": "6612fefb",
   "metadata": {},
   "source": [
    "# Calculating both direction and amount from error\n",
    "\n",
    "\n",
    "> note: The `pure error` indicates the raw direction and amount you missed. If this is a positive number, you predicted too high, and vice versa. If this is a big number, you missed by a big amount, and so on.\n",
    "\n",
    "```\n",
    "pure error = (your_pred - goal_pred)\n",
    "```\n",
    "\n",
    "Now we'll see the `gradient descent` (scaling, negative reversal, and stopping).\n",
    "\n",
    "These three attributes have the combined effect of translating the pure error into the absolute amount you want to change weight. They do so by addressing three major edge cases where the pure error isn’t sufficient to make a good modification to weight.\n",
    "\n",
    "```\n",
    "direction_and_amount = (pred - goal_pred) * input\n",
    "```\n"
   ]
  },
  {
   "cell_type": "code",
   "execution_count": 6,
   "id": "b8e1e543",
   "metadata": {},
   "outputs": [
    {
     "name": "stdout",
     "output_type": "stream",
     "text": [
      "Error:0.30250000000000005 Prediction:0.25\n",
      "Error:0.17015625000000004 Prediction:0.3875\n",
      "Error:0.095712890625 Prediction:0.49062500000000003\n",
      "Error:0.05383850097656251 Prediction:0.56796875\n",
      "Error:0.03028415679931642 Prediction:0.6259765625\n",
      "Error:0.0170348381996155 Prediction:0.669482421875\n",
      "Error:0.00958209648728372 Prediction:0.70211181640625\n",
      "Error:0.005389929274097089 Prediction:0.7265838623046875\n",
      "Error:0.0030318352166796153 Prediction:0.7449378967285156\n",
      "Error:0.0017054073093822882 Prediction:0.7587034225463867\n",
      "Error:0.0009592916115275371 Prediction:0.76902756690979\n",
      "Error:0.0005396015314842384 Prediction:0.7767706751823426\n",
      "Error:0.000303525861459885 Prediction:0.7825780063867569\n",
      "Error:0.00017073329707118678 Prediction:0.7869335047900676\n",
      "Error:9.603747960254256e-05 Prediction:0.7902001285925507\n",
      "Error:5.402108227642978e-05 Prediction:0.7926500964444131\n",
      "Error:3.038685878049206e-05 Prediction:0.7944875723333098\n",
      "Error:1.7092608064027242e-05 Prediction:0.7958656792499823\n",
      "Error:9.614592036015323e-06 Prediction:0.7968992594374867\n",
      "Error:5.408208020258491e-06 Prediction:0.7976744445781151\n"
     ]
    }
   ],
   "source": [
    "weight = 0.5\n",
    "goal_pred = 0.8\n",
    "input = 0.5\n",
    "\n",
    "for iteration in range(20):\n",
    "    pred = input * weight\n",
    "    error = (pred - goal_pred) ** 2\n",
    "    direction_and_amount = (pred - goal_pred) * input  # gradient descent!!!\n",
    "    weight = weight - direction_and_amount\n",
    "    print(\"Error:\" + str(error) + \" Prediction:\" + str(pred))"
   ]
  },
  {
   "cell_type": "markdown",
   "id": "3fe9fcc9",
   "metadata": {},
   "source": [
    "# Calculating the weight delta and putting it on the weight\n",
    "\n",
    "\n",
    "The main difference is that we now use a `delta` parameter.\n",
    "\n",
    "> `delta` is a measurement of how much a node missed. Suppouse the true prediction is 1.0, and the\n",
    "network’s prediction was 0.85, so the network was low by 0.15. Thus, delta is negative 0.15."
   ]
  },
  {
   "cell_type": "code",
   "execution_count": 7,
   "id": "aff7248c",
   "metadata": {},
   "outputs": [],
   "source": [
    "pred = neural_network(input,weight)\n",
    "\n",
    "error = (pred - goal_pred) ** 2\n",
    "delta = pred - goal_pred  # Here's the new delta!\n",
    "weight_delta = input * delta  # measure of how much a weight caused the network to miss\n",
    "\n",
    "alpha = 0.01  # An hyperparameter to control how \"fast\" the NN lears!\n",
    "weight -= weight_delta * alpha"
   ]
  },
  {
   "cell_type": "markdown",
   "id": "997e198a",
   "metadata": {},
   "source": [
    "# Learning is just reducing error\n",
    "\n",
    "**KEY POINT!!!**: For any `input` and `goal_pred`, an **exact relationship** is defined between `error` and `weight`, found by combining the prediction and error formulas. In this case:\n",
    "\n",
    "$error = ((0.5 * weight) - 0.8) ** 2$\n",
    "\n",
    "So we need to find the `weight` where `error` it's minimum"
   ]
  },
  {
   "cell_type": "code",
   "execution_count": 8,
   "id": "26850621",
   "metadata": {},
   "outputs": [
    {
     "name": "stdout",
     "output_type": "stream",
     "text": [
      "Error:0.6400000000000001 Prediction:0.0\n",
      "Error:0.3600000000000001 Prediction:0.2\n",
      "Error:0.2025 Prediction:0.35000000000000003\n",
      "Error:0.11390625000000001 Prediction:0.4625\n"
     ]
    }
   ],
   "source": [
    "weight, goal_pred, input = (0.0, 0.8, 0.5)\n",
    "\n",
    "for iteration in range(4):\n",
    "    pred = input * weight\n",
    "    error = (pred - goal_pred) ** 2\n",
    "    delta = pred - goal_pred\n",
    "    weight_delta = delta * input\n",
    "    weight = weight - weight_delta\n",
    "    print(\"Error:\" + str(error) + \" Prediction:\" + str(pred))"
   ]
  },
  {
   "cell_type": "markdown",
   "id": "136c07e0",
   "metadata": {},
   "source": [
    "> We’ll spend the rest of this book (and many deep learning researchers will spend the rest of their lives) trying everything you can imagine on that `pred` calculation so that **it can make good predictions**"
   ]
  },
  {
   "cell_type": "markdown",
   "id": "b814bc68",
   "metadata": {},
   "source": [
    "# Alpha in code\n",
    "\n",
    "Usando el metodo que ya conocemos podemos toparnos un nuevo problema!\n",
    "que pasa si `input` NO es adecuado???\n",
    "\n",
    "Muy grande, muy chico, etc.\n",
    "\n",
    "Dado que `weight_delta = delta * input` depende del `input` y el peso al final es: `weight = weight - weight_delta`.\n",
    "\n",
    "Nuestro peso final o se altera de sobremanera (`input = 2.0`) llega al resultado esperado (`input = 1.1`) o bien se tarda MUCHISIMO en llegar a nuestro objetivo (`input = 0.1`)!"
   ]
  },
  {
   "cell_type": "code",
   "execution_count": 25,
   "id": "5ce790f7",
   "metadata": {},
   "outputs": [
    {
     "name": "stdout",
     "output_type": "stream",
     "text": [
      "----------------------------------------\n",
      "For the input = 0.1:\n",
      "Iteration(0):\n",
      "\tError: 0.64\n",
      "\tPrediction: 0.0\n",
      "Iteration(1):\n",
      "\tError: 0.63\n",
      "\tPrediction: 0.01\n",
      "Iteration(2):\n",
      "\tError: 0.61\n",
      "\tPrediction: 0.02\n",
      "Iteration(3):\n",
      "\tError: 0.6\n",
      "\tPrediction: 0.02\n",
      "Iteration(4):\n",
      "\tError: 0.59\n",
      "\tPrediction: 0.03\n",
      "----------\n",
      "Final Prediction = 0.031523192\n",
      "Final Error = 0.5905566044338689\n",
      "----------------------------------------\n",
      "For the input = 1.1:\n",
      "Iteration(0):\n",
      "\tError: 0.64\n",
      "\tPrediction: 0.0\n",
      "Iteration(1):\n",
      "\tError: 0.03\n",
      "\tPrediction: 0.97\n",
      "Iteration(2):\n",
      "\tError: 0.0\n",
      "\tPrediction: 0.76\n",
      "Iteration(3):\n",
      "\tError: 0.0\n",
      "\tPrediction: 0.81\n",
      "Iteration(4):\n",
      "\tError: 0.0\n",
      "\tPrediction: 0.8\n",
      "----------\n",
      "Final Prediction = 0.798444152\n",
      "Final Error = 2.4206629991042546e-06\n",
      "----------------------------------------\n",
      "For the input = 2.0:\n",
      "Iteration(0):\n",
      "\tError: 0.64\n",
      "\tPrediction: 0.0\n",
      "Iteration(1):\n",
      "\tError: 5.76\n",
      "\tPrediction: 3.2\n",
      "Iteration(2):\n",
      "\tError: 51.84\n",
      "\tPrediction: -6.4\n",
      "Iteration(3):\n",
      "\tError: 466.56\n",
      "\tPrediction: 22.4\n",
      "Iteration(4):\n",
      "\tError: 4199.04\n",
      "\tPrediction: -64.0\n",
      "----------\n",
      "Final Prediction = -64.0\n",
      "Final Error = 4199.04\n"
     ]
    }
   ],
   "source": [
    "for input in [0.1, 1.1, 2.0]:\n",
    "    weight = 0.0\n",
    "    goal_pred = 0.8\n",
    "    print(\"-\"*40, f\"For the input = {input}:\", sep=\"\\n\")\n",
    "    for iteration in range(5):\n",
    "        pred = input * weight\n",
    "        error = (pred - goal_pred) ** 2\n",
    "        delta = pred - goal_pred\n",
    "        weight_delta = delta * input\n",
    "        weight = weight - weight_delta\n",
    "        print(f\"Iteration({iteration}):\", \n",
    "              f\"Error: {round(error, 2)}\",\n",
    "              f\"Prediction: {round(pred, 2)}\",\n",
    "              sep=\"\\n\\t\")\n",
    "    print(\"-\"*10,\n",
    "          f\"Final Prediction = {pred}\",\n",
    "          f\"Final Error = {error}\",\n",
    "          sep=\"\\n\")\n"
   ]
  },
  {
   "cell_type": "markdown",
   "id": "fe31eb93",
   "metadata": {},
   "source": [
    "Ahora lo unico que debemos hacer es añadir el `alpha`, de la siguiente manera:\n",
    "\n",
    "```\n",
    "weight = weight - (alpha * (input * (pred - goal_pred)))\n",
    "```\n",
    "\n",
    "Y... atinarle al mejor posible..."
   ]
  },
  {
   "cell_type": "code",
   "execution_count": 38,
   "id": "7a36513d",
   "metadata": {},
   "outputs": [
    {
     "name": "stdout",
     "output_type": "stream",
     "text": [
      "----------------------------------------\n",
      "For the input = 0.1:\n",
      "Iteration(0):\n",
      "\tError: 0.64\n",
      "\tPrediction: 0.0\n",
      "Iteration(1):\n",
      "\tError: 0.04\n",
      "\tPrediction: 0.6\n",
      "Iteration(2):\n",
      "\tError: 0.0\n",
      "\tPrediction: 0.75\n",
      "Iteration(3):\n",
      "\tError: 0.0\n",
      "\tPrediction: 0.79\n",
      "Iteration(4):\n",
      "\tError: 0.0\n",
      "\tPrediction: 0.8\n",
      "----------\n",
      "Final Prediction = 0.796875\n",
      "Final Error = 9.765625000000278e-06\n",
      "----------------------------------------\n",
      "For the input = 1.1:\n",
      "Iteration(0):\n",
      "\tError: 0.64\n",
      "\tPrediction: 0.0\n",
      "Iteration(1):\n",
      "\tError: 0.03\n",
      "\tPrediction: 0.97\n",
      "Iteration(2):\n",
      "\tError: 0.0\n",
      "\tPrediction: 0.76\n",
      "Iteration(3):\n",
      "\tError: 0.0\n",
      "\tPrediction: 0.81\n",
      "Iteration(4):\n",
      "\tError: 0.0\n",
      "\tPrediction: 0.8\n",
      "----------\n",
      "Final Prediction = 0.798444152\n",
      "Final Error = 2.4206629991042546e-06\n",
      "----------------------------------------\n",
      "For the input = 2.0:\n",
      "Iteration(0):\n",
      "\tError: 0.64\n",
      "\tPrediction: 0.0\n",
      "Iteration(1):\n",
      "\tError: 0.03\n",
      "\tPrediction: 0.64\n",
      "Iteration(2):\n",
      "\tError: 0.0\n",
      "\tPrediction: 0.77\n",
      "Iteration(3):\n",
      "\tError: 0.0\n",
      "\tPrediction: 0.79\n",
      "Iteration(4):\n",
      "\tError: 0.0\n",
      "\tPrediction: 0.8\n",
      "----------\n",
      "Final Prediction = 0.7987200000000001\n",
      "Final Error = 1.6383999999998664e-06\n"
     ]
    }
   ],
   "source": [
    "\n",
    "for input, alpha in [(0.1, 75), (1.1, 1), (2.0, 0.2)]:\n",
    "    weight = 0.0\n",
    "    goal_pred = 0.8\n",
    "    print(\"-\"*40, f\"For the input = {input}:\", sep=\"\\n\")\n",
    "    for iteration in range(5):\n",
    "        pred = input * weight\n",
    "        error = (pred - goal_pred) ** 2\n",
    "        delta = pred - goal_pred\n",
    "        weight_delta = delta * input\n",
    "        weight = weight - (alpha * (input * (pred - goal_pred)))\n",
    "        print(f\"Iteration({iteration}):\", \n",
    "              f\"Error: {round(error, 2)}\",\n",
    "              f\"Prediction: {round(pred, 2)}\",\n",
    "              sep=\"\\n\\t\")\n",
    "    print(\"-\"*10,\n",
    "          f\"Final Prediction = {pred}\",\n",
    "          f\"Final Error = {error}\",\n",
    "          sep=\"\\n\")\n"
   ]
  },
  {
   "cell_type": "code",
   "execution_count": null,
   "id": "c30f9d79",
   "metadata": {},
   "outputs": [],
   "source": []
  }
 ],
 "metadata": {
  "kernelspec": {
   "display_name": "Python 3 (ipykernel)",
   "language": "python",
   "name": "python3"
  },
  "language_info": {
   "codemirror_mode": {
    "name": "ipython",
    "version": 3
   },
   "file_extension": ".py",
   "mimetype": "text/x-python",
   "name": "python",
   "nbconvert_exporter": "python",
   "pygments_lexer": "ipython3",
   "version": "3.10.1"
  }
 },
 "nbformat": 4,
 "nbformat_minor": 5
}
